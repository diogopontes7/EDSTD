{
 "cells": [
  {
   "cell_type": "code",
   "execution_count": 6,
   "id": "flush-fifteen",
   "metadata": {},
   "outputs": [
    {
     "name": "stdout",
     "output_type": "stream",
     "text": [
      "Requirement already satisfied: hdfs in /opt/conda/lib/python3.11/site-packages (2.7.3)\n",
      "Requirement already satisfied: docopt in /opt/conda/lib/python3.11/site-packages (from hdfs) (0.6.2)\n",
      "Requirement already satisfied: requests>=2.7.0 in /opt/conda/lib/python3.11/site-packages (from hdfs) (2.31.0)\n",
      "Requirement already satisfied: six>=1.9.0 in /opt/conda/lib/python3.11/site-packages (from hdfs) (1.16.0)\n",
      "Requirement already satisfied: charset-normalizer<4,>=2 in /opt/conda/lib/python3.11/site-packages (from requests>=2.7.0->hdfs) (3.2.0)\n",
      "Requirement already satisfied: idna<4,>=2.5 in /opt/conda/lib/python3.11/site-packages (from requests>=2.7.0->hdfs) (3.4)\n",
      "Requirement already satisfied: urllib3<3,>=1.21.1 in /opt/conda/lib/python3.11/site-packages (from requests>=2.7.0->hdfs) (2.0.4)\n",
      "Requirement already satisfied: certifi>=2017.4.17 in /opt/conda/lib/python3.11/site-packages (from requests>=2.7.0->hdfs) (2023.7.22)\n"
     ]
    }
   ],
   "source": [
    "# Install dependencies\n",
    "import sys\n",
    "!{sys.executable} -m pip install hdfs"
   ]
  },
  {
   "cell_type": "code",
   "execution_count": 7,
   "id": "twelve-oklahoma",
   "metadata": {},
   "outputs": [
    {
     "data": {
      "text/plain": [
       "'/TrabalhoPratico/bronze/Gender_StatsCountry.csv'"
      ]
     },
     "execution_count": 7,
     "metadata": {},
     "output_type": "execute_result"
    }
   ],
   "source": [
    "# Copy File to bronze layer\n",
    "from os import PathLike\n",
    "from hdfs import InsecureClient\n",
    "client = InsecureClient(\"http://hdfs-nn:9870\", user=\"anonymous\")\n",
    "\n",
    "from_path = \"./Gender_StatsCountry.csv\"\n",
    "to_path = \"/TrabalhoPratico/bronze/Gender_StatsCountry.csv\"\n",
    "\n",
    "client.delete(to_path)\n",
    "\n",
    "client.upload(to_path, from_path)\n",
    "\n",
    "# More HDFS functions here if needed (e.g., write, list files, delete files, rename, delete, etc...)\n",
    "# https://hdfscli.readthedocs.io/en/latest/quickstart.html"
   ]
  },
  {
   "cell_type": "code",
   "execution_count": null,
   "id": "ae3e661b-df39-4d91-8abe-5e39619b432d",
   "metadata": {},
   "outputs": [],
   "source": []
  }
 ],
 "metadata": {
  "kernelspec": {
   "display_name": "Python 3 (ipykernel)",
   "language": "python",
   "name": "python3"
  },
  "language_info": {
   "codemirror_mode": {
    "name": "ipython",
    "version": 3
   },
   "file_extension": ".py",
   "mimetype": "text/x-python",
   "name": "python",
   "nbconvert_exporter": "python",
   "pygments_lexer": "ipython3",
   "version": "3.11.5"
  }
 },
 "nbformat": 4,
 "nbformat_minor": 5
}
