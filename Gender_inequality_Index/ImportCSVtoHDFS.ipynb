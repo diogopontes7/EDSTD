{
 "cells": [
  {
   "cell_type": "code",
   "execution_count": 2,
   "id": "288a321c-43ae-4d84-8085-f3979c263d2f",
   "metadata": {},
   "outputs": [
    {
     "data": {
      "text/plain": [
       "'/TrabalhoPratico/bronze/GenderInequalityIndex'"
      ]
     },
     "execution_count": 2,
     "metadata": {},
     "output_type": "execute_result"
    }
   ],
   "source": [
    "from os import PathLike\n",
    "from hdfs import InsecureClient\n",
    "client = InsecureClient(\"http://hdfs-nn:9870\", user=\"anonymous\")\n",
    "\n",
    "from_path = \"./Gender Inequality Index.csv\"\n",
    "to_path = \"/TrabalhoPratico/bronze/GenderInequalityIndex\"\n",
    "\n",
    "client.delete(to_path)\n",
    "\n",
    "client.upload(to_path, from_path)"
   ]
  },
  {
   "cell_type": "code",
   "execution_count": null,
   "id": "9c4a9b1b-25a5-4374-96a8-00e05505883b",
   "metadata": {},
   "outputs": [],
   "source": []
  }
 ],
 "metadata": {
  "kernelspec": {
   "display_name": "Python 3 (ipykernel)",
   "language": "python",
   "name": "python3"
  },
  "language_info": {
   "codemirror_mode": {
    "name": "ipython",
    "version": 3
   },
   "file_extension": ".py",
   "mimetype": "text/x-python",
   "name": "python",
   "nbconvert_exporter": "python",
   "pygments_lexer": "ipython3",
   "version": "3.11.5"
  }
 },
 "nbformat": 4,
 "nbformat_minor": 5
}
