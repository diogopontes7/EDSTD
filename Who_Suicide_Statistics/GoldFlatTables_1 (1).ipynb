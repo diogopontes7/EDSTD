{
 "cells": [
  {
   "cell_type": "code",
   "execution_count": null,
   "id": "bbec0754-be38-4cce-b6b2-4d15bc3ac4ad",
   "metadata": {},
   "outputs": [],
   "source": [
    "pip install delta-spark==2.4.0"
   ]
  },
  {
   "cell_type": "code",
   "execution_count": 2,
   "id": "d013aa9e-4eea-48a5-bfbd-610cc058939f",
   "metadata": {},
   "outputs": [],
   "source": [
    "from pyspark.sql import SparkSession\n",
    "from pyspark.sql import Row\n",
    "from delta import *\n",
    "from os import PathLike\n",
    "from hdfs import InsecureClient\n",
    "from pyspark.sql import Row\n",
    "from pyspark.sql.types import LongType, StringType, StructField, StructType, BooleanType, ArrayType, IntegerType\n",
    "from pyspark.sql import SparkSession\n",
    "from pyspark.sql.functions import *\n",
    "\n",
    "# warehouse_location points to the default location for managed databases and tables\n",
    "warehouse_location = 'hdfs://hdfs-nn:9000/TrabalhoPratico'\n",
    "\n",
    "builder = SparkSession \\\n",
    "    .builder \\\n",
    "    .appName(\"Python Spark SQL Hive integration example\") \\\n",
    "    .config(\"spark.sql.TrabalhoPratico.dir\", warehouse_location) \\\n",
    "    .config(\"hive.metastore.uris\", \"thrift://hive-metastore:9083\") \\\n",
    "    .config(\"spark.sql.extensions\", \"io.delta.sql.DeltaSparkSessionExtension\") \\\n",
    "    .config(\"spark.sql.catalog.spark_catalog\", \"org.apache.spark.sql.delta.catalog.DeltaCatalog\") \\\n",
    "    .config(\"spark.jars.packages\", \"io.delta:delta-core_2.12:2.4.0\") \\\n",
    "    .enableHiveSupport() \\\n",
    "\n",
    "spark = spark = configure_spark_with_delta_pip(builder).getOrCreate()"
   ]
  },
  {
   "cell_type": "code",
   "execution_count": 2,
   "id": "4295052a-6526-480e-b4fe-becd20c0987b",
   "metadata": {},
   "outputs": [
    {
     "data": {
      "text/plain": [
       "DataFrame[]"
      ]
     },
     "execution_count": 2,
     "metadata": {},
     "output_type": "execute_result"
    }
   ],
   "source": [
    "spark.sql(\n",
    "    \"\"\"\n",
    "    CREATE DATABASE IF NOT EXISTS gold LOCATION 'hdfs://hdfs-nn:9000/TrabalhoPratico/gold/'\n",
    "    \"\"\"\n",
    ")"
   ]
  },
  {
   "cell_type": "code",
   "execution_count": 3,
   "id": "a1ee11a5-df7f-41fa-ba83-aa6a0dd0893a",
   "metadata": {},
   "outputs": [
    {
     "name": "stdout",
     "output_type": "stream",
     "text": [
      "+---------+\n",
      "|namespace|\n",
      "+---------+\n",
      "|  default|\n",
      "|     gold|\n",
      "|   silver|\n",
      "|  silver1|\n",
      "+---------+\n",
      "\n"
     ]
    }
   ],
   "source": [
    "spark.sql(\n",
    "    \"\"\"\n",
    "    SHOW DATABASES\n",
    "    \"\"\"\n",
    ").show()"
   ]
  },
  {
   "cell_type": "code",
   "execution_count": 4,
   "id": "6b59139c-200d-4cb7-a912-65ee4f92014e",
   "metadata": {},
   "outputs": [
    {
     "data": {
      "text/plain": [
       "DataFrame[]"
      ]
     },
     "execution_count": 4,
     "metadata": {},
     "output_type": "execute_result"
    }
   ],
   "source": [
    "spark.sql(\n",
    "    \"\"\"\n",
    "    DROP TABLE IF EXISTS gold.who_suicide_statistics_SuicidesPerSex\n",
    "    \"\"\"\n",
    ")"
   ]
  },
  {
   "cell_type": "code",
   "execution_count": null,
   "id": "eabfa862-c45d-4ef4-a771-e44c8a74fdaa",
   "metadata": {},
   "outputs": [],
   "source": [
    "spark.sql(\n",
    "    \"\"\"\n",
    "    SHOW TABLES FROM gold\n",
    "    \"\"\"\n",
    ").show()"
   ]
  },
  {
   "cell_type": "code",
   "execution_count": 5,
   "id": "24b9ce2f-cb69-4378-bd76-6e1915d16da4",
   "metadata": {},
   "outputs": [
    {
     "data": {
      "text/plain": [
       "DataFrame[]"
      ]
     },
     "execution_count": 5,
     "metadata": {},
     "output_type": "execute_result"
    }
   ],
   "source": [
    "# 1-> Criação de uma tabela de maneira a criar uma nova deltaTable , uma com uma coluna chamada PercentualSuicidiosPorSexo\n",
    "\n",
    "spark.sql(\n",
    "    \"\"\"\n",
    "    DROP TABLE IF EXISTS gold.who_suicide_statistics_SuicidesPerSex\n",
    "    \"\"\"\n",
    ")\n",
    "\n",
    "spark.sql(\n",
    "    \"\"\"\n",
    "    CREATE EXTERNAL TABLE  gold.who_suicide_statistics_SuicidesPerSex (\n",
    "        country STRING,\n",
    "        year INT,\n",
    "        sex STRING,\n",
    "        PercentageOfSuicidesByGender STRING\n",
    "        \n",
    "    )\n",
    "    USING DELTA\n",
    "    LOCATION 'hdfs://hdfs-nn:9000/TrabalhoPratico/gold/who_suicide_statistics_SuicidesPerSex/'\n",
    "    \"\"\"\n",
    ")"
   ]
  },
  {
   "cell_type": "code",
   "execution_count": 8,
   "id": "089f6cf1-9950-427f-bc5d-1cd956cdfe44",
   "metadata": {},
   "outputs": [
    {
     "name": "stdout",
     "output_type": "stream",
     "text": [
      "+-------+----+------+--------------+----------------+----------------------------+\n",
      "|   Pais| Ano|Genero|total_suicides|total_population|PercentageOfSuicidesByGender|\n",
      "+-------+----+------+--------------+----------------+----------------------------+\n",
      "|Albania|1987|female|            25|         1316900|                      0.0019|\n",
      "|Albania|1987|  male|            48|         1392700|                      0.0034|\n",
      "|Albania|1988|female|            22|         1343600|                      0.0016|\n",
      "|Albania|1988|  male|            41|         1420700|                      0.0029|\n",
      "|Albania|1989|female|            15|         1363300|                      0.0011|\n",
      "|Albania|1989|  male|            53|         1439800|                      0.0037|\n",
      "|Albania|1992|female|            14|         1423200|                      0.0010|\n",
      "|Albania|1992|  male|            33|         1399300|                      0.0024|\n",
      "|Albania|1993|female|            27|         1427400|                      0.0019|\n",
      "|Albania|1993|  male|            46|         1379900|                      0.0033|\n",
      "|Albania|1994|female|            15|         1445100|                      0.0010|\n",
      "|Albania|1994|  male|            35|         1404200|                      0.0025|\n",
      "|Albania|1995|female|            34|         1473800|                      0.0023|\n",
      "|Albania|1995|  male|            54|         1429600|                      0.0038|\n",
      "|Albania|1996|female|            39|         1496000|                      0.0026|\n",
      "|Albania|1996|  male|            50|         1444200|                      0.0035|\n",
      "|Albania|1997|female|            52|         1528900|                      0.0034|\n",
      "|Albania|1997|  male|           118|         1448400|                      0.0081|\n",
      "|Albania|1998|female|            58|         1537300|                      0.0038|\n",
      "|Albania|1998|  male|            96|         1475400|                      0.0065|\n",
      "+-------+----+------+--------------+----------------+----------------------------+\n",
      "only showing top 20 rows\n",
      "\n"
     ]
    }
   ],
   "source": [
    "# 1.1-> Caminho para a DeltaTable criada na layer de Silver\n",
    "\n",
    "who_suicide_silver = spark.read.format(\"delta\").load(\"hdfs://hdfs-nn:9000/TrabalhoPratico/silver/who_suicide_statistics_DeltaTable\")\n",
    "\n",
    "# Drop á coluna de age\n",
    "mentalHealth_df = who_suicide_silver.drop(\"Idade\")\n",
    "\n",
    "# Agrupar as linhas por país, por Género e por Genero, somando o numero de suicidios e população\n",
    "who_suicide_PerSex = mentalHealth_df.groupBy(\"Pais\", \"Ano\", \"Genero\").agg(\n",
    "    sum(\"Numero_Suicidios\").alias(\"total_suicides\"),\n",
    "    sum(\"Populacao\").alias(\"total_population\")\n",
    ")\n",
    "# Organizar o resultado por ordem dos paises\n",
    "who_suicide_PerSex = who_suicide_PerSex.orderBy(\"Pais\", \"Ano\", \"Genero\")\n",
    "\n",
    "#Criar coluna PercentualSuicidiosPorGenero que equivale ao número total de suicidios a dividir pelo número total da população\n",
    "who_suicide_statistics_SuicidesPerSex = who_suicide_PerSex.withColumn(\n",
    "    \"PercentageOfSuicidesByGender\",\n",
    "    format_number(col(\"total_suicides\") / col(\"total_population\") * 100, 4)\n",
    ")\n",
    "\n",
    "who_suicide_statistics_SuicidesPerSex.show()\n",
    "\n",
    "\n"
   ]
  },
  {
   "cell_type": "code",
   "execution_count": 10,
   "id": "83cc2674-9cd3-4e17-a5c1-2e6effd39625",
   "metadata": {},
   "outputs": [],
   "source": [
    "# 1.2-> Guardar os dados na layer de Gold\n",
    "\n",
    "who_suicide_statistics_SuicidesPerSex \\\n",
    "    .select(\"Pais\",\"Ano\", \"Genero\", \"PercentageOfSuicidesByGender\") \\\n",
    "    .write \\\n",
    "    .mode(\"overwrite\") \\\n",
    "    .format(\"delta\") \\\n",
    "    .option(\"overwriteSchema\", \"true\") \\\n",
    "    .save(\"hdfs://hdfs-nn:9000/TrabalhoPratico/gold/who_suicide_statistics_SuicidesPerSex\") "
   ]
  },
  {
   "cell_type": "code",
   "execution_count": 11,
   "id": "22840e6a-ece5-4ad7-8d5f-cff1c23559fc",
   "metadata": {},
   "outputs": [
    {
     "name": "stdout",
     "output_type": "stream",
     "text": [
      "+-------+----+------+----------------------------+\n",
      "|   Pais| Ano|Genero|PercentageOfSuicidesByGender|\n",
      "+-------+----+------+----------------------------+\n",
      "|Albania|1987|female|                      0.0019|\n",
      "|Albania|1987|  male|                      0.0034|\n",
      "|Albania|1988|female|                      0.0016|\n",
      "|Albania|1988|  male|                      0.0029|\n",
      "|Albania|1989|female|                      0.0011|\n",
      "|Albania|1989|  male|                      0.0037|\n",
      "|Albania|1992|female|                      0.0010|\n",
      "|Albania|1992|  male|                      0.0024|\n",
      "|Albania|1993|female|                      0.0019|\n",
      "|Albania|1993|  male|                      0.0033|\n",
      "|Albania|1994|female|                      0.0010|\n",
      "|Albania|1994|  male|                      0.0025|\n",
      "|Albania|1995|female|                      0.0023|\n",
      "|Albania|1995|  male|                      0.0038|\n",
      "|Albania|1996|female|                      0.0026|\n",
      "|Albania|1996|  male|                      0.0035|\n",
      "|Albania|1997|female|                      0.0034|\n",
      "|Albania|1997|  male|                      0.0081|\n",
      "|Albania|1998|female|                      0.0038|\n",
      "|Albania|1998|  male|                      0.0065|\n",
      "+-------+----+------+----------------------------+\n",
      "only showing top 20 rows\n",
      "\n"
     ]
    }
   ],
   "source": [
    "# 1.3-> Output do resultado esperado\n",
    "\n",
    "spark.sql(\n",
    "    \"\"\"\n",
    "    Select *\n",
    "    from gold.who_suicide_statistics_SuicidesPerSex\n",
    "    \"\"\"\n",
    ").show()"
   ]
  },
  {
   "cell_type": "code",
   "execution_count": 12,
   "id": "cb586504-9e37-4c14-967e-025d33c7921e",
   "metadata": {},
   "outputs": [
    {
     "data": {
      "text/plain": [
       "DataFrame[]"
      ]
     },
     "execution_count": 12,
     "metadata": {},
     "output_type": "execute_result"
    }
   ],
   "source": [
    "# 2-> Criação da table de Suicidios por pais \n",
    "spark.sql(\n",
    "    \"\"\"\n",
    "    DROP TABLE IF EXISTS gold.who_suicide_statistics_SuicidesPerCountry\n",
    "    \"\"\"\n",
    ")\n",
    "\n",
    "spark.sql(\n",
    "    \"\"\"\n",
    "    CREATE EXTERNAL TABLE  gold.who_suicide_statistics_SuicidesPerCountry (\n",
    "        country STRING,\n",
    "        year INT,\n",
    "        PercentageOfSuicidesByCountry STRING\n",
    "        \n",
    "    )\n",
    "    USING DELTA\n",
    "    LOCATION 'hdfs://hdfs-nn:9000/TrabalhoPratico/gold/who_suicide_statistics_SuicidesPerCountry/'\n",
    "    \"\"\"\n",
    ")"
   ]
  },
  {
   "cell_type": "code",
   "execution_count": 16,
   "id": "c21efd69-307e-4e9f-80d3-91d83bbcfeee",
   "metadata": {},
   "outputs": [
    {
     "name": "stdout",
     "output_type": "stream",
     "text": [
      "+-------+----+--------------+----------------+-----------------------------+\n",
      "|   Pais| Ano|total_suicides|total_population|PercentageOfSuicidesByCountry|\n",
      "+-------+----+--------------+----------------+-----------------------------+\n",
      "|Albania|1987|            73|         2709600|                       0.0027|\n",
      "|Albania|1988|            63|         2764300|                       0.0023|\n",
      "|Albania|1989|            68|         2803100|                       0.0024|\n",
      "|Albania|1992|            47|         2822500|                       0.0017|\n",
      "|Albania|1993|            73|         2807300|                       0.0026|\n",
      "|Albania|1994|            50|         2849300|                       0.0018|\n",
      "|Albania|1995|            88|         2903400|                       0.0030|\n",
      "|Albania|1996|            89|         2940200|                       0.0030|\n",
      "|Albania|1997|           170|         2977300|                       0.0057|\n",
      "|Albania|1998|           154|         3012700|                       0.0051|\n",
      "|Albania|1999|           139|         3029700|                       0.0046|\n",
      "|Albania|2000|            54|         2796300|                       0.0019|\n",
      "|Albania|2001|           119|         2799349|                       0.0043|\n",
      "|Albania|2002|           133|         2818839|                       0.0047|\n",
      "|Albania|2003|           124|         2843929|                       0.0044|\n",
      "|Albania|2004|           146|         2874991|                       0.0051|\n",
      "|Albania|2005|             0|         2783320|                       0.0000|\n",
      "|Albania|2006|             0|         2780176|                       0.0000|\n",
      "|Albania|2007|           124|         2770344|                       0.0045|\n",
      "|Albania|2008|           160|         2757059|                       0.0058|\n",
      "+-------+----+--------------+----------------+-----------------------------+\n",
      "only showing top 20 rows\n",
      "\n"
     ]
    }
   ],
   "source": [
    "# 2.1 -> Caminho para a DeltaTable criada na layer de Silver\n",
    "who_suicide_silver_Country = spark.read.format(\"delta\").load(\"hdfs://hdfs-nn:9000/TrabalhoPratico/silver/who_suicide_statistics_DeltaTable\")\n",
    "\n",
    "# Drop á coluna de age\n",
    "mentalHealth_df_Country = who_suicide_silver_Country.drop(\"Idade\")\n",
    "\n",
    "# Agrupar as linhas por país e por Género, somando o numero de suicidios e população\n",
    "who_suicide_PerCountry = mentalHealth_df_Country.groupBy(\"Pais\", \"Ano\").agg(\n",
    "    sum(\"Numero_Suicidios\").alias(\"total_suicides\"),\n",
    "    sum(\"Populacao\").alias(\"total_population\")\n",
    ")\n",
    "\n",
    "# Organizar o resultado por ordem dos paises e por ano\n",
    "who_suicide_PerCountry = who_suicide_PerCountry.orderBy(\"Pais\", \"Ano\")\n",
    "\n",
    "#Criar coluna PercentualSuicidiosPorPais que equivale ao número total de suicidios a dividir pelo número total da população\n",
    "who_suicide_statistics_SuicidesPerCountry = who_suicide_PerCountry.withColumn(\n",
    "    \"PercentageOfSuicidesByCountry\",\n",
    "    format_number(col(\"total_suicides\") / col(\"total_population\") * 100, 4)\n",
    ")\n",
    "\n",
    "who_suicide_statistics_SuicidesPerCountry.show()\n"
   ]
  },
  {
   "cell_type": "code",
   "execution_count": 17,
   "id": "7f5bbcc8-6ed6-4bdf-8d72-1694dc37ac3d",
   "metadata": {},
   "outputs": [],
   "source": [
    "# 2.2 -> Guardar os dados na layer de Gold\n",
    "\n",
    "who_suicide_statistics_SuicidesPerCountry \\\n",
    "    .select (\"Pais\",\"Ano\",\"PercentageOfSuicidesByCountry\") \\\n",
    "    .write \\\n",
    "    .mode(\"overwrite\") \\\n",
    "    .format(\"delta\") \\\n",
    "    .option(\"overwriteSchema\",\"true\") \\\n",
    "    .save(\"hdfs://hdfs-nn:9000/TrabalhoPratico/gold/who_suicide_statistics_SuicidesPerCountry\")"
   ]
  },
  {
   "cell_type": "code",
   "execution_count": 18,
   "id": "7257b1b0-1818-45fa-b67e-723d0c207284",
   "metadata": {},
   "outputs": [
    {
     "name": "stdout",
     "output_type": "stream",
     "text": [
      "+-------+----+-----------------------------+\n",
      "|   Pais| Ano|PercentageOfSuicidesByCountry|\n",
      "+-------+----+-----------------------------+\n",
      "|Albania|1987|                       0.0027|\n",
      "|Albania|1988|                       0.0023|\n",
      "|Albania|1989|                       0.0024|\n",
      "|Albania|1992|                       0.0017|\n",
      "|Albania|1993|                       0.0026|\n",
      "|Albania|1994|                       0.0018|\n",
      "|Albania|1995|                       0.0030|\n",
      "|Albania|1996|                       0.0030|\n",
      "|Albania|1997|                       0.0057|\n",
      "|Albania|1998|                       0.0051|\n",
      "|Albania|1999|                       0.0046|\n",
      "|Albania|2000|                       0.0019|\n",
      "|Albania|2001|                       0.0043|\n",
      "|Albania|2002|                       0.0047|\n",
      "|Albania|2003|                       0.0044|\n",
      "|Albania|2004|                       0.0051|\n",
      "|Albania|2005|                       0.0000|\n",
      "|Albania|2006|                       0.0000|\n",
      "|Albania|2007|                       0.0045|\n",
      "|Albania|2008|                       0.0058|\n",
      "+-------+----+-----------------------------+\n",
      "only showing top 20 rows\n",
      "\n"
     ]
    }
   ],
   "source": [
    "# 2.3 -> Verificação\n",
    "spark.sql(\n",
    "    \"\"\"\n",
    "    SELECT *\n",
    "    FROM gold.who_suicide_statistics_SuicidesPerCountry\n",
    "    \"\"\"\n",
    ").show()"
   ]
  },
  {
   "cell_type": "code",
   "execution_count": 19,
   "id": "c99df2d9-a2b8-40e1-845d-e4cb4931bbe2",
   "metadata": {},
   "outputs": [
    {
     "data": {
      "text/plain": [
       "DataFrame[]"
      ]
     },
     "execution_count": 19,
     "metadata": {},
     "output_type": "execute_result"
    }
   ],
   "source": [
    "# 3-> Criação da table de Suicidios por pais e Genero \n",
    "spark.sql(\n",
    "    \"\"\"\n",
    "    DROP TABLE IF EXISTS gold.who_suicide_statistics_SuicidesPerCountryAndGender\n",
    "    \"\"\"\n",
    ")\n",
    "\n",
    "spark.sql(\n",
    "    \"\"\"\n",
    "    CREATE EXTERNAL TABLE  gold.who_suicide_statistics_SuicidesPerCountryAndGender (\n",
    "        Pais STRING,\n",
    "        Genero STRING,\n",
    "        PercentageOfSuicidesByGender STRING\n",
    "        \n",
    "    )\n",
    "    USING DELTA\n",
    "    LOCATION 'hdfs://hdfs-nn:9000/TrabalhoPratico/gold/who_suicide_statistics_SuicidesPerCountryAndGender/'\n",
    "    \"\"\"\n",
    ")"
   ]
  },
  {
   "cell_type": "code",
   "execution_count": 20,
   "id": "5e251d50-119d-4c1a-a397-d1158affdb33",
   "metadata": {},
   "outputs": [
    {
     "name": "stdout",
     "output_type": "stream",
     "text": [
      "+-------+----+------+---------------+---------------+-----------------------------+\n",
      "|   Pais| Ano|Genero|Total_Suicidios|Total_Populacao|PercentagemSuicidiosPorGenero|\n",
      "+-------+----+------+---------------+---------------+-----------------------------+\n",
      "|Albania|1987|female|             25|        1316900|                       0.0019|\n",
      "|Albania|1987|  male|             48|        1392700|                       0.0034|\n",
      "|Albania|1988|female|             22|        1343600|                       0.0016|\n",
      "|Albania|1988|  male|             41|        1420700|                       0.0029|\n",
      "|Albania|1989|female|             15|        1363300|                       0.0011|\n",
      "|Albania|1989|  male|             53|        1439800|                       0.0037|\n",
      "|Albania|1992|female|             14|        1423200|                       0.0010|\n",
      "|Albania|1992|  male|             33|        1399300|                       0.0024|\n",
      "|Albania|1993|female|             27|        1427400|                       0.0019|\n",
      "|Albania|1993|  male|             46|        1379900|                       0.0033|\n",
      "|Albania|1994|female|             15|        1445100|                       0.0010|\n",
      "|Albania|1994|  male|             35|        1404200|                       0.0025|\n",
      "|Albania|1995|female|             34|        1473800|                       0.0023|\n",
      "|Albania|1995|  male|             54|        1429600|                       0.0038|\n",
      "|Albania|1996|female|             39|        1496000|                       0.0026|\n",
      "|Albania|1996|  male|             50|        1444200|                       0.0035|\n",
      "|Albania|1997|female|             52|        1528900|                       0.0034|\n",
      "|Albania|1997|  male|            118|        1448400|                       0.0081|\n",
      "|Albania|1998|female|             58|        1537300|                       0.0038|\n",
      "|Albania|1998|  male|             96|        1475400|                       0.0065|\n",
      "+-------+----+------+---------------+---------------+-----------------------------+\n",
      "only showing top 20 rows\n",
      "\n"
     ]
    }
   ],
   "source": [
    "# 3.1 -> Criação da table de Suicidios por pais e Genero \n",
    "\n",
    "#Caminho para a DeltaTable criada na layer de Silver\n",
    "who_suicide_silver = spark.read.format(\"delta\").load(\"hdfs://hdfs-nn:9000/TrabalhoPratico/silver/who_suicide_statistics_DeltaTable\")\n",
    "\n",
    "# Drop á coluna de age e year\n",
    "mentalHealth_df = who_suicide_silver.drop(\"Idade\")\n",
    "\n",
    "# Agrupar as linhas por Género e por Genero, somando o numero de suicidios e população\n",
    "who_suicide_PerSexAndCountry = mentalHealth_df.groupBy(\"Pais\", \"Ano\", \"Genero\").agg(\n",
    "    sum(\"Numero_Suicidios\").alias(\"Total_Suicidios\"),\n",
    "    sum(\"Populacao\").alias(\"Total_Populacao\")\n",
    ")\n",
    "# Organizar o resultado por ordem dos paises e Genero\n",
    "who_suicide_PerSexAndCountry = who_suicide_PerSexAndCountry.orderBy(\"Pais\",\"Ano\", \"Genero\")\n",
    "\n",
    "#Criar coluna PercentualSuicidiosPorGenero_Pais que equivale ao número total de suicidios a dividir pelo número total da população\n",
    "who_suicide_statistics_SuicidesPerSexAndCountry = who_suicide_PerSexAndCountry.withColumn(\n",
    "    \"PercentagemSuicidiosPorGenero\",\n",
    "    format_number(col(\"Total_Suicidios\") / col(\"Total_Populacao\") * 100, 4)\n",
    ")\n",
    "\n",
    "who_suicide_statistics_SuicidesPerSexAndCountry.show()"
   ]
  },
  {
   "cell_type": "code",
   "execution_count": 21,
   "id": "fd24678a-2926-4844-969d-3a9ba358d00c",
   "metadata": {},
   "outputs": [],
   "source": [
    "# 3.2 -> Guardar os dados na layer de Gold\n",
    "\n",
    "who_suicide_statistics_SuicidesPerSexAndCountry \\\n",
    "    .select(\"Pais\", \"Ano\", \"Genero\", \"PercentagemSuicidiosPorGenero\") \\\n",
    "    .write \\\n",
    "    .mode(\"overwrite\") \\\n",
    "    .format(\"delta\") \\\n",
    "    .option(\"overwriteSchema\", \"true\") \\\n",
    "    .save(\"hdfs://hdfs-nn:9000/TrabalhoPratico/gold/who_suicide_statistics_SuicidesPerCountryAndGender\") "
   ]
  },
  {
   "cell_type": "code",
   "execution_count": 22,
   "id": "75e8f6d1-c459-49e6-908e-c36f38dd2b47",
   "metadata": {},
   "outputs": [
    {
     "name": "stdout",
     "output_type": "stream",
     "text": [
      "+-------+----+------+-----------------------------+\n",
      "|   Pais| Ano|Genero|PercentagemSuicidiosPorGenero|\n",
      "+-------+----+------+-----------------------------+\n",
      "|Albania|1987|female|                       0.0019|\n",
      "|Albania|1987|  male|                       0.0034|\n",
      "|Albania|1988|female|                       0.0016|\n",
      "|Albania|1988|  male|                       0.0029|\n",
      "|Albania|1989|female|                       0.0011|\n",
      "|Albania|1989|  male|                       0.0037|\n",
      "|Albania|1992|female|                       0.0010|\n",
      "|Albania|1992|  male|                       0.0024|\n",
      "|Albania|1993|female|                       0.0019|\n",
      "|Albania|1993|  male|                       0.0033|\n",
      "|Albania|1994|female|                       0.0010|\n",
      "|Albania|1994|  male|                       0.0025|\n",
      "|Albania|1995|female|                       0.0023|\n",
      "|Albania|1995|  male|                       0.0038|\n",
      "|Albania|1996|female|                       0.0026|\n",
      "|Albania|1996|  male|                       0.0035|\n",
      "|Albania|1997|female|                       0.0034|\n",
      "|Albania|1997|  male|                       0.0081|\n",
      "|Albania|1998|female|                       0.0038|\n",
      "|Albania|1998|  male|                       0.0065|\n",
      "+-------+----+------+-----------------------------+\n",
      "only showing top 20 rows\n",
      "\n"
     ]
    }
   ],
   "source": [
    "# 3.3 -> Verificação \n",
    "spark.sql(\n",
    "    \"\"\"\n",
    "    Select *\n",
    "    From gold.who_suicide_statistics_SuicidesPerCountryAndGender\n",
    "    \"\"\"\n",
    ").show()"
   ]
  },
  {
   "cell_type": "code",
   "execution_count": null,
   "id": "35664d56-778e-4157-9a51-fee39c164da7",
   "metadata": {},
   "outputs": [],
   "source": [
    "# 4 -> Criar Tabela para a junção dos Indexs e Suicidios\n",
    "\n",
    "spark.sql(\n",
    "    \"\"\"\n",
    "    DROP TABLE IF EXISTS gold.indexs_Suicidios_Gold\n",
    "    \"\"\"\n",
    ")"
   ]
  },
  {
   "cell_type": "code",
   "execution_count": 25,
   "id": "5ee17e12-16cd-4118-9083-51dbfc2de1fb",
   "metadata": {},
   "outputs": [
    {
     "data": {
      "text/plain": [
       "DataFrame[]"
      ]
     },
     "execution_count": 25,
     "metadata": {},
     "output_type": "execute_result"
    }
   ],
   "source": [
    "# 4 -> Criar Tabela para a junção dos Indexs e Suicidios\n",
    "\n",
    "spark.sql(\n",
    "    \"\"\"\n",
    "    DROP TABLE IF EXISTS gold.tratamento_Suicidios\n",
    "    \"\"\"\n",
    ")\n",
    "\n",
    "spark.sql(\n",
    "    \"\"\"\n",
    "    CREATE EXTERNAL TABLE  gold.tratamento_Suicidios (\n",
    "        Pais STRING,\n",
    "        Genero STRING,\n",
    "        PercentagemSuicidiosPorGenero STRING,\n",
    "        Sum_Treatments_Per_Country INT\n",
    "        \n",
    "    )\n",
    "    USING DELTA\n",
    "    LOCATION 'hdfs://hdfs-nn:9000/TrabalhoPratico/gold/indexs_Suicidios_Gold/'\n",
    "    \"\"\"\n",
    ")"
   ]
  },
  {
   "cell_type": "code",
   "execution_count": 3,
   "id": "1b4cd2d7-4447-48c0-a293-324420dc341c",
   "metadata": {},
   "outputs": [
    {
     "ename": "AnalysisException",
     "evalue": "[UNRESOLVED_USING_COLUMN_FOR_JOIN] USING column `Ano` cannot be resolved on the right side of the join. The right-side columns: [`Country`, `Gender`, `Sum_Benefits_Per_Country`, `Sum_Care_Options_Per_Country`, `Sum_Treatments_Per_Country`].",
     "output_type": "error",
     "traceback": [
      "\u001b[0;31m---------------------------------------------------------------------------\u001b[0m",
      "\u001b[0;31mAnalysisException\u001b[0m                         Traceback (most recent call last)",
      "Cell \u001b[0;32mIn[3], line 8\u001b[0m\n\u001b[1;32m      3\u001b[0m Suicides \u001b[38;5;241m=\u001b[39m spark\u001b[38;5;241m.\u001b[39mread\u001b[38;5;241m.\u001b[39mformat(\u001b[38;5;124m\"\u001b[39m\u001b[38;5;124mdelta\u001b[39m\u001b[38;5;124m\"\u001b[39m)\u001b[38;5;241m.\u001b[39mload(\u001b[38;5;124m\"\u001b[39m\u001b[38;5;124mhdfs://hdfs-nn:9000/TrabalhoPratico/gold/who_suicide_statistics_SuicidesPerCountryAndGender\u001b[39m\u001b[38;5;124m\"\u001b[39m)\n\u001b[1;32m      5\u001b[0m Tratamento \u001b[38;5;241m=\u001b[39m spark\u001b[38;5;241m.\u001b[39mread\u001b[38;5;241m.\u001b[39mformat(\u001b[38;5;124m\"\u001b[39m\u001b[38;5;124mdelta\u001b[39m\u001b[38;5;124m\"\u001b[39m)\u001b[38;5;241m.\u001b[39mload(\u001b[38;5;124m\"\u001b[39m\u001b[38;5;124mhdfs://hdfs-nn:9000/TrabalhoPratico/gold/mentalHealth_Benefits_Care_TreatmentPerCountry\u001b[39m\u001b[38;5;124m\"\u001b[39m)\n\u001b[0;32m----> 8\u001b[0m Suicidio_Tratamento_Gold \u001b[38;5;241m=\u001b[39m \u001b[43mSuicides\u001b[49m\u001b[38;5;241;43m.\u001b[39;49m\u001b[43mjoin\u001b[49m\u001b[43m(\u001b[49m\u001b[43mTratamento\u001b[49m\u001b[43m,\u001b[49m\u001b[43m \u001b[49m\u001b[43m[\u001b[49m\u001b[38;5;124;43m\"\u001b[39;49m\u001b[38;5;124;43mAno\u001b[39;49m\u001b[38;5;124;43m\"\u001b[39;49m\u001b[43m,\u001b[49m\u001b[43m \u001b[49m\u001b[38;5;124;43m\"\u001b[39;49m\u001b[38;5;124;43mPais\u001b[39;49m\u001b[38;5;124;43m\"\u001b[39;49m\u001b[43m]\u001b[49m\u001b[43m)\u001b[49m\n\u001b[1;32m     10\u001b[0m Suicidio_Tratamento_Gold\u001b[38;5;241m.\u001b[39mshow()\n",
      "File \u001b[0;32m/usr/local/spark/python/pyspark/sql/dataframe.py:2344\u001b[0m, in \u001b[0;36mDataFrame.join\u001b[0;34m(self, other, on, how)\u001b[0m\n\u001b[1;32m   2342\u001b[0m         on \u001b[38;5;241m=\u001b[39m \u001b[38;5;28mself\u001b[39m\u001b[38;5;241m.\u001b[39m_jseq([])\n\u001b[1;32m   2343\u001b[0m     \u001b[38;5;28;01massert\u001b[39;00m \u001b[38;5;28misinstance\u001b[39m(how, \u001b[38;5;28mstr\u001b[39m), \u001b[38;5;124m\"\u001b[39m\u001b[38;5;124mhow should be a string\u001b[39m\u001b[38;5;124m\"\u001b[39m\n\u001b[0;32m-> 2344\u001b[0m     jdf \u001b[38;5;241m=\u001b[39m \u001b[38;5;28;43mself\u001b[39;49m\u001b[38;5;241;43m.\u001b[39;49m\u001b[43m_jdf\u001b[49m\u001b[38;5;241;43m.\u001b[39;49m\u001b[43mjoin\u001b[49m\u001b[43m(\u001b[49m\u001b[43mother\u001b[49m\u001b[38;5;241;43m.\u001b[39;49m\u001b[43m_jdf\u001b[49m\u001b[43m,\u001b[49m\u001b[43m \u001b[49m\u001b[43mon\u001b[49m\u001b[43m,\u001b[49m\u001b[43m \u001b[49m\u001b[43mhow\u001b[49m\u001b[43m)\u001b[49m\n\u001b[1;32m   2345\u001b[0m \u001b[38;5;28;01mreturn\u001b[39;00m DataFrame(jdf, \u001b[38;5;28mself\u001b[39m\u001b[38;5;241m.\u001b[39msparkSession)\n",
      "File \u001b[0;32m/usr/local/spark/python/lib/py4j-0.10.9.7-src.zip/py4j/java_gateway.py:1322\u001b[0m, in \u001b[0;36mJavaMember.__call__\u001b[0;34m(self, *args)\u001b[0m\n\u001b[1;32m   1316\u001b[0m command \u001b[38;5;241m=\u001b[39m proto\u001b[38;5;241m.\u001b[39mCALL_COMMAND_NAME \u001b[38;5;241m+\u001b[39m\\\n\u001b[1;32m   1317\u001b[0m     \u001b[38;5;28mself\u001b[39m\u001b[38;5;241m.\u001b[39mcommand_header \u001b[38;5;241m+\u001b[39m\\\n\u001b[1;32m   1318\u001b[0m     args_command \u001b[38;5;241m+\u001b[39m\\\n\u001b[1;32m   1319\u001b[0m     proto\u001b[38;5;241m.\u001b[39mEND_COMMAND_PART\n\u001b[1;32m   1321\u001b[0m answer \u001b[38;5;241m=\u001b[39m \u001b[38;5;28mself\u001b[39m\u001b[38;5;241m.\u001b[39mgateway_client\u001b[38;5;241m.\u001b[39msend_command(command)\n\u001b[0;32m-> 1322\u001b[0m return_value \u001b[38;5;241m=\u001b[39m \u001b[43mget_return_value\u001b[49m\u001b[43m(\u001b[49m\n\u001b[1;32m   1323\u001b[0m \u001b[43m    \u001b[49m\u001b[43manswer\u001b[49m\u001b[43m,\u001b[49m\u001b[43m \u001b[49m\u001b[38;5;28;43mself\u001b[39;49m\u001b[38;5;241;43m.\u001b[39;49m\u001b[43mgateway_client\u001b[49m\u001b[43m,\u001b[49m\u001b[43m \u001b[49m\u001b[38;5;28;43mself\u001b[39;49m\u001b[38;5;241;43m.\u001b[39;49m\u001b[43mtarget_id\u001b[49m\u001b[43m,\u001b[49m\u001b[43m \u001b[49m\u001b[38;5;28;43mself\u001b[39;49m\u001b[38;5;241;43m.\u001b[39;49m\u001b[43mname\u001b[49m\u001b[43m)\u001b[49m\n\u001b[1;32m   1325\u001b[0m \u001b[38;5;28;01mfor\u001b[39;00m temp_arg \u001b[38;5;129;01min\u001b[39;00m temp_args:\n\u001b[1;32m   1326\u001b[0m     \u001b[38;5;28;01mif\u001b[39;00m \u001b[38;5;28mhasattr\u001b[39m(temp_arg, \u001b[38;5;124m\"\u001b[39m\u001b[38;5;124m_detach\u001b[39m\u001b[38;5;124m\"\u001b[39m):\n",
      "File \u001b[0;32m/usr/local/spark/python/pyspark/errors/exceptions/captured.py:175\u001b[0m, in \u001b[0;36mcapture_sql_exception.<locals>.deco\u001b[0;34m(*a, **kw)\u001b[0m\n\u001b[1;32m    171\u001b[0m converted \u001b[38;5;241m=\u001b[39m convert_exception(e\u001b[38;5;241m.\u001b[39mjava_exception)\n\u001b[1;32m    172\u001b[0m \u001b[38;5;28;01mif\u001b[39;00m \u001b[38;5;129;01mnot\u001b[39;00m \u001b[38;5;28misinstance\u001b[39m(converted, UnknownException):\n\u001b[1;32m    173\u001b[0m     \u001b[38;5;66;03m# Hide where the exception came from that shows a non-Pythonic\u001b[39;00m\n\u001b[1;32m    174\u001b[0m     \u001b[38;5;66;03m# JVM exception message.\u001b[39;00m\n\u001b[0;32m--> 175\u001b[0m     \u001b[38;5;28;01mraise\u001b[39;00m converted \u001b[38;5;28;01mfrom\u001b[39;00m \u001b[38;5;28;01mNone\u001b[39;00m\n\u001b[1;32m    176\u001b[0m \u001b[38;5;28;01melse\u001b[39;00m:\n\u001b[1;32m    177\u001b[0m     \u001b[38;5;28;01mraise\u001b[39;00m\n",
      "\u001b[0;31mAnalysisException\u001b[0m: [UNRESOLVED_USING_COLUMN_FOR_JOIN] USING column `Ano` cannot be resolved on the right side of the join. The right-side columns: [`Country`, `Gender`, `Sum_Benefits_Per_Country`, `Sum_Care_Options_Per_Country`, `Sum_Treatments_Per_Country`]."
     ]
    }
   ],
   "source": [
    "# Começar a junção de duas tabelas\n",
    "\n",
    "Suicides = spark.read.format(\"delta\").load(\"hdfs://hdfs-nn:9000/TrabalhoPratico/gold/who_suicide_statistics_SuicidesPerCountryAndGender\")\n",
    "\n",
    "Tratamento = spark.read.format(\"delta\").load(\"hdfs://hdfs-nn:9000/TrabalhoPratico/gold/mentalHealth_Benefits_Care_TreatmentPerCountry\")\n",
    "\n",
    "\n",
    "Suicidio_Tratamento_Gold = Suicides.join(Tratamento, [\"Ano\", \"Pais\"])\n",
    "\n",
    "Suicidio_Tratamento_Gold.show()"
   ]
  },
  {
   "cell_type": "code",
   "execution_count": null,
   "id": "2849ba4a-ed25-4640-bdf1-7898434cac61",
   "metadata": {},
   "outputs": [],
   "source": [
    "Indexs_Suicidios_Gold \\\n",
    "    .select(\"Ano\", \"Pais\", \"Genero\", \"PercentagemSuicidiosPorGenero\", \"Index_Desigualdade\") \\\n",
    "    .write \\\n",
    "    .mode(\"overwrite\") \\\n",
    "    .format(\"delta\") \\\n",
    "    .option(\"overwriteSchema\", \"true\") \\\n",
    "    .save(\"hdfs://hdfs-nn:9000/TrabalhoPratico/gold/indexs_Suicidios_Gold\") "
   ]
  },
  {
   "cell_type": "code",
   "execution_count": null,
   "id": "a378c545-f2e9-47ef-b810-4e90fd10133d",
   "metadata": {},
   "outputs": [],
   "source": [
    "spark.sql(\n",
    "    \"\"\"\n",
    "    Select *\n",
    "    From gold.indexs_Suicidios_Gold\n",
    "    \"\"\"\n",
    ").show()"
   ]
  },
  {
   "cell_type": "code",
   "execution_count": null,
   "id": "5c3607e1-5f1b-43d4-9e54-78136e3c5da2",
   "metadata": {},
   "outputs": [],
   "source": [
    "spark.stop()"
   ]
  },
  {
   "cell_type": "code",
   "execution_count": null,
   "id": "e40bcf33-3558-406c-a5d8-840f6a5d1596",
   "metadata": {},
   "outputs": [],
   "source": []
  }
 ],
 "metadata": {
  "kernelspec": {
   "display_name": "Python 3 (ipykernel)",
   "language": "python",
   "name": "python3"
  },
  "language_info": {
   "codemirror_mode": {
    "name": "ipython",
    "version": 3
   },
   "file_extension": ".py",
   "mimetype": "text/x-python",
   "name": "python",
   "nbconvert_exporter": "python",
   "pygments_lexer": "ipython3",
   "version": "3.11.5"
  }
 },
 "nbformat": 4,
 "nbformat_minor": 5
}
