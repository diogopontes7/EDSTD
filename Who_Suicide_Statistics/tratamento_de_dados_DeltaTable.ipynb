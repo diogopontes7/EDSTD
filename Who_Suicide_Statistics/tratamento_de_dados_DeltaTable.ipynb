{
 "cells": [
  {
   "cell_type": "code",
   "execution_count": 1,
   "id": "bc9abb22-bf2f-4f66-bc1b-448f2decc861",
   "metadata": {},
   "outputs": [],
   "source": [
    "from pyspark.sql import SparkSession\n",
    "from pyspark.sql import Row\n",
    "from delta import *\n",
    "from os import PathLike\n",
    "from hdfs import InsecureClient\n",
    "from pyspark.sql import Row\n",
    "from pyspark.sql.types import LongType, StringType, StructField, StructType, BooleanType, ArrayType, IntegerType\n",
    "from pyspark.sql import SparkSession\n",
    "from pyspark.sql.functions import *\n",
    "from pyspark.sql.window import WindowSpec\n",
    "from pyspark.sql.window import Window\n",
    "\n",
    "# warehouse_location points to the default location for managed databases and tables\n",
    "warehouse_location = 'hdfs://hdfs-nn:9000/TrabalhoPratico'\n",
    "\n",
    "builder = SparkSession \\\n",
    "    .builder \\\n",
    "    .master(\"local[2]\") \\\n",
    "    .appName(\"Python Spark DataFrames and SQL\") \\\n",
    "    .config(\"spark.sql.TrabalhoPratico.dir\", warehouse_location) \\\n",
    "    .config(\"hive.metastore.uris\", \"thrift://hive-metastore:9083\") \\\n",
    "    .config(\"spark.sql.extensions\", \"io.delta.sql.DeltaSparkSessionExtension\") \\\n",
    "    .config(\"spark.sql.catalog.spark_catalog\", \"org.apache.spark.sql.delta.catalog.DeltaCatalog\") \\\n",
    "    .config(\"spark.jars.packages\", \"io.delta:delta-core_2.12:2.4.0\") \\\n",
    "    .enableHiveSupport() \\\n",
    "\n",
    "spark = configure_spark_with_delta_pip(builder).getOrCreate()"
   ]
  },
  {
   "cell_type": "code",
   "execution_count": null,
   "id": "a1b19621-fdd6-433e-9648-b73eee8e05f8",
   "metadata": {},
   "outputs": [],
   "source": [
    "#read hdfs file to dataframe\n",
    "#\n",
    "hdfs_path = \"hdfs://hdfs-nn:9000/TrabalhoPratico/bronze/who_suicide_statistics\"\n",
    "#define the schema for the dataframe\n",
    "customSchema = StructType([\n",
    "    StructField(\"country\", StringType(), False),        \n",
    "    StructField(\"year\", IntegerType(), False),\n",
    "    StructField(\"sex\", StringType(), False),\n",
    "    StructField(\"age\", StringType(), False),\n",
    "    StructField(\"suicides_number\", IntegerType(), False),\n",
    "    StructField(\"population\", IntegerType(), False),\n",
    "])\n",
    "\n",
    "suicides_dt = spark \\\n",
    "            .read\\\n",
    "            .option(\"delimiter\",\",\")\\\n",
    "            .option(\"header\",\"true\")\\\n",
    "            .schema(customSchema) \\\n",
    "            .csv(hdfs_path)\n",
    "\n",
    "suicides_dt.show()"
   ]
  },
  {
   "cell_type": "code",
   "execution_count": 3,
   "id": "26f3bf0b-bfb6-46c8-b04a-1772df751351",
   "metadata": {},
   "outputs": [],
   "source": [
    "# ----------------------- MODIFICAÇÕES NECESSÁRIAS PARA A LAYER DE SILVER ------------------\n",
    "\n",
    "# Elimina todas as linhas que contenham algum dado a null\n",
    "who_suicide_statistics = suicides_dt.dropna()\n",
    "\n",
    "#Criar coluna PercentualSuicidios que equivale ao número total de suicidios a dividir pelo número total da população\n",
    "who_suicide_statistics_FinalMods = who_suicide_statistics.withColumn(\n",
    "    \"PercentualSuicidiosPorIdade\",\n",
    "    format_number(col(\"suicides_number\") / col(\"population\") * 100, 4)\n",
    ")"
   ]
  },
  {
   "cell_type": "code",
   "execution_count": null,
   "id": "1ad1e416-dcef-4b5c-af73-744f092282ba",
   "metadata": {},
   "outputs": [],
   "source": [
    "#View das tabelas criadas\n",
    "who_suicide_statistics_FinalMods.show()\n",
    "who_suicide_statistics_FinalMods.toPandas()"
   ]
  },
  {
   "cell_type": "code",
   "execution_count": 75,
   "id": "bacc7edc-fd31-4423-93cc-e193bada9c15",
   "metadata": {},
   "outputs": [],
   "source": [
    "# Guardar os dados na layer de Silver\n",
    "\n",
    "who_suicide_statistics_FinalMods \\\n",
    "    .select(\"country\",\"year\", \"sex\", \"age\", \"suicides_number\", \"population\", \"PercentualSuicidiosPorIdade\") \\\n",
    "    .write \\\n",
    "    .mode(\"overwrite\") \\\n",
    "    .format(\"delta\") \\\n",
    "    .option(\"overwriteSchema\", \"true\") \\\n",
    "    .save(\"hdfs://hdfs-nn:9000/TrabalhoPratico/silver/who_suicide_statistics_DeltaTable\") "
   ]
  },
  {
   "cell_type": "code",
   "execution_count": null,
   "id": "5e0c1567-6177-4ad4-9b5f-d830d4bca6c8",
   "metadata": {},
   "outputs": [],
   "source": [
    "spark.sql(\n",
    "    \"\"\"\n",
    "    Select *\n",
    "    from silver.who_suicide_statistics_DeltaTable\n",
    "    \"\"\"\n",
    ").toPandas()"
   ]
  },
  {
   "cell_type": "code",
   "execution_count": 5,
   "id": "53da3559-e37a-4295-b11c-b6dfda73f192",
   "metadata": {},
   "outputs": [],
   "source": [
    "spark.stop()"
   ]
  },
  {
   "cell_type": "code",
   "execution_count": null,
   "id": "07a0a080-35d8-472a-819a-38c554e7c237",
   "metadata": {},
   "outputs": [],
   "source": []
  }
 ],
 "metadata": {
  "kernelspec": {
   "display_name": "Python 3 (ipykernel)",
   "language": "python",
   "name": "python3"
  },
  "language_info": {
   "codemirror_mode": {
    "name": "ipython",
    "version": 3
   },
   "file_extension": ".py",
   "mimetype": "text/x-python",
   "name": "python",
   "nbconvert_exporter": "python",
   "pygments_lexer": "ipython3",
   "version": "3.11.5"
  }
 },
 "nbformat": 4,
 "nbformat_minor": 5
}
