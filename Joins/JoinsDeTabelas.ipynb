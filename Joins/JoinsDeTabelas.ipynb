{
 "cells": [
  {
   "cell_type": "code",
   "execution_count": 1,
   "id": "735eeba1-d81f-42d0-897c-8d9810313d15",
   "metadata": {},
   "outputs": [],
   "source": [
    "from os import PathLike\n",
    "from hdfs import InsecureClient\n",
    "from pyspark.sql import SparkSession\n",
    "from pyspark.sql import Row\n",
    "from delta import *\n",
    "from pyspark.sql.types import LongType, StringType, StructField, StructType, BooleanType, ArrayType, IntegerType\n",
    "from pyspark.sql.functions import *"
   ]
  },
  {
   "cell_type": "code",
   "execution_count": 2,
   "id": "27a8fe62-0cf0-4894-a580-7685dac0fa39",
   "metadata": {},
   "outputs": [],
   "source": [
    "warehouse_location = 'hdfs://hdfs-nn:9000/TrabalhoPratico'\n",
    "\n",
    "builder = SparkSession \\\n",
    "    .builder \\\n",
    "    .appName(\"Python Spark SQL Hive integration example\") \\\n",
    "    .config(\"spark.sql.warehouse.dir\", warehouse_location) \\\n",
    "    .config(\"hive.metastore.uris\", \"thrift://hive-metastore:9083\") \\\n",
    "    .config(\"spark.sql.extensions\", \"io.delta.sql.DeltaSparkSessionExtension\") \\\n",
    "    .config(\"spark.sql.catalog.spark_catalog\", \"org.apache.spark.sql.delta.catalog.DeltaCatalog\") \\\n",
    "    .config(\"spark.jars.packages\", \"io.delta:delta-core_2.12:2.4.0\") \\\n",
    "    .enableHiveSupport() \\\n",
    "\n",
    "spark = spark = configure_spark_with_delta_pip(builder).getOrCreate()"
   ]
  },
  {
   "cell_type": "code",
   "execution_count": 3,
   "id": "91a7532e-e92a-4029-a46c-e47f8533b890",
   "metadata": {},
   "outputs": [],
   "source": [
    "gold_MentalHealth = spark.read.format(\"delta\").load(\"hdfs://hdfs-nn:9000/TrabalhoPratico/gold/mentalHealth_TratamentoPerSex\")"
   ]
  },
  {
   "cell_type": "code",
   "execution_count": 4,
   "id": "91bcaa84-d203-4d7d-8dad-e23804dc0082",
   "metadata": {},
   "outputs": [],
   "source": [
    "gold_whosuicide = spark.read.format(\"delta\").load(\"hdfs://hdfs-nn:9000/TrabalhoPratico/gold/who_suicide_statistics_SuicidesPerCountryAndGender\")"
   ]
  },
  {
   "cell_type": "code",
   "execution_count": 6,
   "id": "9c55a604-ec66-4313-8606-fadb381de3a0",
   "metadata": {},
   "outputs": [
    {
     "data": {
      "text/plain": [
       "DataFrame[]"
      ]
     },
     "execution_count": 6,
     "metadata": {},
     "output_type": "execute_result"
    }
   ],
   "source": [
    "spark.sql(\n",
    "    \"\"\"\n",
    "    DROP TABLE IF EXISTS gold.mentalHealth_WhoSuicide\n",
    "    \"\"\"\n",
    ")\n",
    "\n",
    "spark.sql(\n",
    "    \"\"\"\n",
    "    CREATE EXTERNAL TABLE  gold.mentalHealth_WhoSuicide (\n",
    "         Ano DATE, \n",
    "         Pais STRING, \n",
    "         Homens_em_tratamento INT, \n",
    "         Mulheres_em_tratamento INT,\n",
    "         Percentagem_De_Homens_Em_Tratamento LONG, \n",
    "         Percentagem_De_Mulheres_Em_Tratamento LONG,\n",
    "         Genero STRING,\n",
    "         PercentagemSuicidiosPorGenero LONG\n",
    "        \n",
    "    )\n",
    "    USING DELTA\n",
    "    LOCATION 'hdfs://hdfs-nn:9000/TrabalhoPratico/gold/mentalHealth_WhoSuicide/'\n",
    "    \"\"\"\n",
    ")"
   ]
  },
  {
   "cell_type": "code",
   "execution_count": 7,
   "id": "94da0154-092e-4c2f-9be1-46eeb7b4be2f",
   "metadata": {},
   "outputs": [
    {
     "name": "stdout",
     "output_type": "stream",
     "text": [
      "+----+--------------------+--------------------+----------------------+-----------------------------------+-------------------------------------+------+-----------------------------+\n",
      "| Ano|                Pais|Homens_em_tratamento|Mulheres_em_tratamento|Percentagem_De_Homens_Em_Tratamento|Percentagem_De_Mulheres_Em_Tratamento|Genero|PercentagemSuicidiosPorGenero|\n",
      "+----+--------------------+--------------------+----------------------+-----------------------------------+-------------------------------------+------+-----------------------------+\n",
      "|2014|            Colombia|                   0|                     0|                               null|                                 null|  male|                       0.0081|\n",
      "|2014|            Colombia|                   0|                     0|                               null|                                 null|female|                       0.0017|\n",
      "|2014|             Croatia|                   2|                     0|                              100.0|                                  0.0|  male|                       0.0277|\n",
      "|2014|             Croatia|                   2|                     0|                              100.0|                                  0.0|female|                       0.0089|\n",
      "|2014|         Netherlands|                   7|                     1|                               87.5|                                 12.5|  male|                       0.0159|\n",
      "|2014|         Netherlands|                   7|                     1|                               87.5|                                 12.5|female|                       0.0073|\n",
      "|2014|             Nigeria|                   0|                     0|                               null|                                 null|  null|                         null|\n",
      "|2015|             Finland|                   1|                     0|                              100.0|                                  0.0|  male|                       0.0219|\n",
      "|2015|             Finland|                   1|                     0|                              100.0|                                  0.0|female|                       0.0066|\n",
      "|2014|             Austria|                   0|                     0|                               null|                                 null|  male|                       0.0249|\n",
      "|2014|             Austria|                   0|                     0|                               null|                                 null|female|                       0.0078|\n",
      "|2014|              Canada|                  20|                    12|                               62.5|                                 37.5|  null|                         null|\n",
      "|2014|           Singapore|                   0|                     0|                               null|                                 null|  male|                       0.0138|\n",
      "|2014|           Singapore|                   0|                     0|                               null|                                 null|female|                       0.0056|\n",
      "|2014|        South Africa|                   2|                     1|                  66.66666666666666|                    33.33333333333333|  male|                       0.0019|\n",
      "|2014|        South Africa|                   2|                     1|                  66.66666666666666|                    33.33333333333333|female|                       0.0005|\n",
      "|2014|Bosnia and Herzeg...|                   0|                     0|                               null|                                 null|  male|                       0.0136|\n",
      "|2014|Bosnia and Herzeg...|                   0|                     0|                               null|                                 null|female|                       0.0037|\n",
      "|2015|             Ireland|                   5|                     2|                  71.42857142857143|                    28.57142857142857|  null|                         null|\n",
      "|2015|      Czech Republic|                   0|                     0|                               null|                                 null|  male|                       0.0231|\n",
      "+----+--------------------+--------------------+----------------------+-----------------------------------+-------------------------------------+------+-----------------------------+\n",
      "only showing top 20 rows\n",
      "\n"
     ]
    }
   ],
   "source": [
    "joined_data = gold_MentalHealth.join(gold_whosuicide, ['Ano', 'Pais'], 'left')\n",
    "joined_data.show()"
   ]
  },
  {
   "cell_type": "code",
   "execution_count": 8,
   "id": "8413e73c-1e7d-4ea6-80f8-ddbb42c4f0f0",
   "metadata": {},
   "outputs": [],
   "source": [
    "joined_data \\\n",
    "    .select( \"Ano\" , \"Pais\" , \"Homens_em_tratamento\", \"Mulheres_em_tratamento\",\"Percentagem_De_Homens_Em_Tratamento\", \"Percentagem_De_Mulheres_Em_Tratamento\", \"Genero\",\"PercentagemSuicidiosPorGenero\") \\\n",
    "    .write \\\n",
    "    .mode(\"overwrite\") \\\n",
    "    .format(\"delta\") \\\n",
    "    .option(\"overwriteSchema\", \"true\") \\\n",
    "    .save(\"hdfs://hdfs-nn:9000/TrabalhoPratico/gold/mentalHealth_WhoSuicide\") "
   ]
  },
  {
   "cell_type": "code",
   "execution_count": null,
   "id": "f857bb1d-817b-4cc8-bef8-d2c496fc283c",
   "metadata": {},
   "outputs": [],
   "source": []
  }
 ],
 "metadata": {
  "kernelspec": {
   "display_name": "Python 3 (ipykernel)",
   "language": "python",
   "name": "python3"
  },
  "language_info": {
   "codemirror_mode": {
    "name": "ipython",
    "version": 3
   },
   "file_extension": ".py",
   "mimetype": "text/x-python",
   "name": "python",
   "nbconvert_exporter": "python",
   "pygments_lexer": "ipython3",
   "version": "3.11.5"
  }
 },
 "nbformat": 4,
 "nbformat_minor": 5
}
